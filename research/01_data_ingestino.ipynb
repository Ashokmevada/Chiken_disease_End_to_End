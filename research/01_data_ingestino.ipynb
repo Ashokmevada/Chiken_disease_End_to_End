{
 "cells": [
  {
   "cell_type": "code",
   "execution_count": 2,
   "metadata": {},
   "outputs": [],
   "source": [
    "import os"
   ]
  },
  {
   "cell_type": "code",
   "execution_count": 4,
   "metadata": {},
   "outputs": [
    {
     "data": {
      "text/plain": [
       "'c:\\\\Users\\\\91812\\\\Desktop\\\\DATASCIENCE\\\\End_to_End_Project\\\\Chiken_disease_End_to_End\\\\research'"
      ]
     },
     "execution_count": 4,
     "metadata": {},
     "output_type": "execute_result"
    }
   ],
   "source": [
    "%pwd"
   ]
  },
  {
   "cell_type": "code",
   "execution_count": 5,
   "metadata": {},
   "outputs": [],
   "source": [
    "os.chdir(\"../\")"
   ]
  },
  {
   "cell_type": "code",
   "execution_count": 6,
   "metadata": {},
   "outputs": [
    {
     "data": {
      "text/plain": [
       "'c:\\\\Users\\\\91812\\\\Desktop\\\\DATASCIENCE\\\\End_to_End_Project\\\\Chiken_disease_End_to_End'"
      ]
     },
     "execution_count": 6,
     "metadata": {},
     "output_type": "execute_result"
    }
   ],
   "source": [
    "%pwd"
   ]
  },
  {
   "cell_type": "code",
   "execution_count": 43,
   "metadata": {},
   "outputs": [],
   "source": [
    "from dataclasses import dataclass\n",
    "from pathlib import Path\n",
    "\n",
    "\"\"\"\n",
    "The frozen=True argument specifies that instances of this dataclass should be immutable, meaning their attributes cannot be changed after creation. This is a useful feature when you want to ensure that the data within an instance remains constant throughout its lifecycle, which can be helpful for scenarios like configuration settings.\n",
    "\n",
    "\"\"\"\n",
    "@dataclass(frozen = True) \n",
    "class DataIngestionConfig:\n",
    "    root_dir: Path\n",
    "    source_dir : str\n",
    "    local_data_file: Path\n",
    "    unzip_dir: Path"
   ]
  },
  {
   "cell_type": "code",
   "execution_count": 30,
   "metadata": {},
   "outputs": [],
   "source": [
    "from CNNClassifier.constants import *\n",
    "from CNNClassifier.utils.common import read_yaml , create_directories"
   ]
  },
  {
   "cell_type": "code",
   "execution_count": 33,
   "metadata": {},
   "outputs": [
    {
     "ename": "NameError",
     "evalue": "name 'PARAMS_FILE_PATH' is not defined",
     "output_type": "error",
     "traceback": [
      "\u001b[1;31m---------------------------------------------------------------------------\u001b[0m",
      "\u001b[1;31mNameError\u001b[0m                                 Traceback (most recent call last)",
      "\u001b[1;32mc:\\Users\\91812\\Desktop\\DATASCIENCE\\End_to_End_Project\\Chiken_disease_End_to_End\\research\\01_data_ingestino.ipynb Cell 7\u001b[0m line \u001b[0;36m1\n\u001b[1;32m----> <a href='vscode-notebook-cell:/c%3A/Users/91812/Desktop/DATASCIENCE/End_to_End_Project/Chiken_disease_End_to_End/research/01_data_ingestino.ipynb#W6sZmlsZQ%3D%3D?line=0'>1</a>\u001b[0m \u001b[39mclass\u001b[39;00m \u001b[39mConfigurationManager\u001b[39;00m:\n\u001b[0;32m      <a href='vscode-notebook-cell:/c%3A/Users/91812/Desktop/DATASCIENCE/End_to_End_Project/Chiken_disease_End_to_End/research/01_data_ingestino.ipynb#W6sZmlsZQ%3D%3D?line=2'>3</a>\u001b[0m     \u001b[39mdef\u001b[39;00m \u001b[39m__init__\u001b[39m(\n\u001b[0;32m      <a href='vscode-notebook-cell:/c%3A/Users/91812/Desktop/DATASCIENCE/End_to_End_Project/Chiken_disease_End_to_End/research/01_data_ingestino.ipynb#W6sZmlsZQ%3D%3D?line=3'>4</a>\u001b[0m         \u001b[39mself\u001b[39m,\n\u001b[0;32m      <a href='vscode-notebook-cell:/c%3A/Users/91812/Desktop/DATASCIENCE/End_to_End_Project/Chiken_disease_End_to_End/research/01_data_ingestino.ipynb#W6sZmlsZQ%3D%3D?line=4'>5</a>\u001b[0m         params_filepath \u001b[39m=\u001b[39m PARAMS_FILE_PATH , \n\u001b[0;32m      <a href='vscode-notebook-cell:/c%3A/Users/91812/Desktop/DATASCIENCE/End_to_End_Project/Chiken_disease_End_to_End/research/01_data_ingestino.ipynb#W6sZmlsZQ%3D%3D?line=5'>6</a>\u001b[0m         config_filepath \u001b[39m=\u001b[39m CONFIG_FILE_PATH\n\u001b[0;32m      <a href='vscode-notebook-cell:/c%3A/Users/91812/Desktop/DATASCIENCE/End_to_End_Project/Chiken_disease_End_to_End/research/01_data_ingestino.ipynb#W6sZmlsZQ%3D%3D?line=6'>7</a>\u001b[0m         ):\n\u001b[0;32m      <a href='vscode-notebook-cell:/c%3A/Users/91812/Desktop/DATASCIENCE/End_to_End_Project/Chiken_disease_End_to_End/research/01_data_ingestino.ipynb#W6sZmlsZQ%3D%3D?line=8'>9</a>\u001b[0m         \u001b[39mself\u001b[39m\u001b[39m.\u001b[39mconfig \u001b[39m=\u001b[39m read_yaml(config_filepath)\n",
      "\u001b[1;32mc:\\Users\\91812\\Desktop\\DATASCIENCE\\End_to_End_Project\\Chiken_disease_End_to_End\\research\\01_data_ingestino.ipynb Cell 7\u001b[0m line \u001b[0;36m5\n\u001b[0;32m      <a href='vscode-notebook-cell:/c%3A/Users/91812/Desktop/DATASCIENCE/End_to_End_Project/Chiken_disease_End_to_End/research/01_data_ingestino.ipynb#W6sZmlsZQ%3D%3D?line=0'>1</a>\u001b[0m \u001b[39mclass\u001b[39;00m \u001b[39mConfigurationManager\u001b[39;00m:\n\u001b[0;32m      <a href='vscode-notebook-cell:/c%3A/Users/91812/Desktop/DATASCIENCE/End_to_End_Project/Chiken_disease_End_to_End/research/01_data_ingestino.ipynb#W6sZmlsZQ%3D%3D?line=2'>3</a>\u001b[0m     \u001b[39mdef\u001b[39;00m \u001b[39m__init__\u001b[39m(\n\u001b[0;32m      <a href='vscode-notebook-cell:/c%3A/Users/91812/Desktop/DATASCIENCE/End_to_End_Project/Chiken_disease_End_to_End/research/01_data_ingestino.ipynb#W6sZmlsZQ%3D%3D?line=3'>4</a>\u001b[0m         \u001b[39mself\u001b[39m,\n\u001b[1;32m----> <a href='vscode-notebook-cell:/c%3A/Users/91812/Desktop/DATASCIENCE/End_to_End_Project/Chiken_disease_End_to_End/research/01_data_ingestino.ipynb#W6sZmlsZQ%3D%3D?line=4'>5</a>\u001b[0m         params_filepath \u001b[39m=\u001b[39m PARAMS_FILE_PATH , \n\u001b[0;32m      <a href='vscode-notebook-cell:/c%3A/Users/91812/Desktop/DATASCIENCE/End_to_End_Project/Chiken_disease_End_to_End/research/01_data_ingestino.ipynb#W6sZmlsZQ%3D%3D?line=5'>6</a>\u001b[0m         config_filepath \u001b[39m=\u001b[39m CONFIG_FILE_PATH\n\u001b[0;32m      <a href='vscode-notebook-cell:/c%3A/Users/91812/Desktop/DATASCIENCE/End_to_End_Project/Chiken_disease_End_to_End/research/01_data_ingestino.ipynb#W6sZmlsZQ%3D%3D?line=6'>7</a>\u001b[0m         ):\n\u001b[0;32m      <a href='vscode-notebook-cell:/c%3A/Users/91812/Desktop/DATASCIENCE/End_to_End_Project/Chiken_disease_End_to_End/research/01_data_ingestino.ipynb#W6sZmlsZQ%3D%3D?line=8'>9</a>\u001b[0m         \u001b[39mself\u001b[39m\u001b[39m.\u001b[39mconfig \u001b[39m=\u001b[39m read_yaml(config_filepath)\n\u001b[0;32m     <a href='vscode-notebook-cell:/c%3A/Users/91812/Desktop/DATASCIENCE/End_to_End_Project/Chiken_disease_End_to_End/research/01_data_ingestino.ipynb#W6sZmlsZQ%3D%3D?line=9'>10</a>\u001b[0m         \u001b[39mself\u001b[39m\u001b[39m.\u001b[39mparams \u001b[39m=\u001b[39m read_yaml(params_filepath)\n",
      "\u001b[1;31mNameError\u001b[0m: name 'PARAMS_FILE_PATH' is not defined"
     ]
    }
   ],
   "source": [
    "class ConfigurationManager:\n",
    "\n",
    "    def __init__(\n",
    "        self,\n",
    "        params_filepath = PARAMS_FILE_PATH , \n",
    "        config_filepath = CONFIG_FILE_PATH\n",
    "        ):\n",
    "\n",
    "        self.config = read_yaml(config_filepath)\n",
    "        self.params = read_yaml(params_filepath)\n",
    "\n",
    "\n",
    "        create_directories([self.config.artifacts_root])\n",
    "\n",
    "    def get_data_ingestion_config(self) -> DataIngestionConfig:\n",
    "\n",
    "        config = self.config.data_ingestion\n",
    "\n",
    "        create_directories([config.root_dir])\n",
    "\n",
    "        data_ingestion_config = DataIngestionConfig(\n",
    "            root_dir=config.root_dir,\n",
    "            source_dir = config.source_URL , \n",
    "            local_data_file = config.local_data_file,\n",
    "            unzip_dir = config.unzip_dir\n",
    "        )\n",
    "\n",
    "        return data_ingestion_config\n",
    "\n",
    "    "
   ]
  },
  {
   "cell_type": "code",
   "execution_count": 44,
   "metadata": {},
   "outputs": [],
   "source": [
    "from pathlib import Path\n",
    "class ConfigurationManager:\n",
    "    def __init__(\n",
    "        self,\n",
    "        config_filepath = CONFIG_FILE_PATH,\n",
    "        params_filepath = Path(\"params.yaml\")):\n",
    "\n",
    "        self.config = read_yaml(config_filepath)\n",
    "        self.params = read_yaml(params_filepath)\n",
    "\n",
    "        create_directories([self.config.artifacts_root])\n",
    "\n",
    "\n",
    "    \n",
    "    def get_data_ingestion_config(self) -> DataIngestionConfig:\n",
    "        config = self.config.data_ingestion\n",
    "\n",
    "        create_directories([config.root_dir])\n",
    "\n",
    "        data_ingestion_config = DataIngestionConfig(\n",
    "            root_dir=config.root_dir,\n",
    "            source_dir=config.source_URL,\n",
    "            local_data_file=config.local_data_file,\n",
    "            unzip_dir=config.unzip_dir \n",
    "        )\n",
    "\n",
    "        return data_ingestion_config"
   ]
  },
  {
   "cell_type": "code",
   "execution_count": 34,
   "metadata": {},
   "outputs": [],
   "source": [
    "import os\n",
    "import urllib.request as request\n",
    "import zipfile\n",
    "from CNNClassifier import logger\n",
    "from CNNClassifier.utils.common import get_size\n"
   ]
  },
  {
   "cell_type": "code",
   "execution_count": 48,
   "metadata": {},
   "outputs": [],
   "source": [
    "class DataIngestion:\n",
    "\n",
    "    def __init__(self , config : DataIngestionConfig):\n",
    "\n",
    "        self.config = config\n",
    "\n",
    "    \n",
    "    def download_file(self):\n",
    "\n",
    "        if (not os.path.exists(self.config.local_data_file)):\n",
    "\n",
    "            filename , headers = request.urlretrieve(\n",
    "\n",
    "                url = self.config.source_dir , \n",
    "                filename = self.config.local_data_file\n",
    "            )\n",
    "\n",
    "            logger.info(f\"{filename} downloaded! with following info: \\n{headers}\")\n",
    "\n",
    "        else :\n",
    "            logger.info(f\"File already exists of size\")\n",
    "\n",
    "\n",
    "    def extract_zip_file(self):\n",
    "\n",
    "        \"\"\"\n",
    "        Zip_file_path: str\n",
    "        Extracts the zip file into the data directory\n",
    "        Function returns None\n",
    "        \"\"\"\n",
    "\n",
    "        unzip_path = self.config.unzip_dir\n",
    "        os.makedirs(unzip_path , exist_ok=True)\n",
    "        with zipfile.ZipFile(self.config.local_data_file , 'r') as zip_ref:\n",
    "            zip_ref.extractall(unzip_path)\n",
    "\n",
    "            "
   ]
  },
  {
   "cell_type": "code",
   "execution_count": 49,
   "metadata": {},
   "outputs": [
    {
     "name": "stdout",
     "output_type": "stream",
     "text": [
      "[2023-10-31 00:14:21,703: INFO: common: yaml file: config\\config.yaml loaded successfully]\n",
      "[2023-10-31 00:14:21,703: INFO: common: yaml file: params.yaml loaded successfully]\n",
      "[2023-10-31 00:14:21,711: INFO: common: created directory at : artifacts]\n",
      "[2023-10-31 00:14:21,719: INFO: common: created directory at : artifacts/data_ingestion]\n",
      "[2023-10-31 00:14:46,321: INFO: 2153084205: artifacts/data_ingestion/data.zip downloaded! with following info: \n",
      "Connection: close\n",
      "Content-Length: 11616915\n",
      "Cache-Control: max-age=300\n",
      "Content-Security-Policy: default-src 'none'; style-src 'unsafe-inline'; sandbox\n",
      "Content-Type: application/zip\n",
      "ETag: \"adf745abc03891fe493c3be264ec012691fe3fa21d861f35a27edbe6d86a76b1\"\n",
      "Strict-Transport-Security: max-age=31536000\n",
      "X-Content-Type-Options: nosniff\n",
      "X-Frame-Options: deny\n",
      "X-XSS-Protection: 1; mode=block\n",
      "X-GitHub-Request-Id: A498:2FB8:F8D32:1219E8:653FF987\n",
      "Accept-Ranges: bytes\n",
      "Date: Mon, 30 Oct 2023 18:44:26 GMT\n",
      "Via: 1.1 varnish\n",
      "X-Served-By: cache-maa10236-MAA\n",
      "X-Cache: MISS\n",
      "X-Cache-Hits: 0\n",
      "X-Timer: S1698691464.631939,VS0,VE2741\n",
      "Vary: Authorization,Accept-Encoding,Origin\n",
      "Access-Control-Allow-Origin: *\n",
      "Cross-Origin-Resource-Policy: cross-origin\n",
      "X-Fastly-Request-ID: 2d257dd27a7d2c1a34162f776d746120e8957de1\n",
      "Expires: Mon, 30 Oct 2023 18:49:26 GMT\n",
      "Source-Age: 2\n",
      "\n",
      "]\n"
     ]
    }
   ],
   "source": [
    "try:\n",
    "    config = ConfigurationManager()\n",
    "    data_ingestion_config = config.get_data_ingestion_config()\n",
    "    data_ingestion = DataIngestion(config = data_ingestion_config)\n",
    "    data_ingestion.download_file()\n",
    "    data_ingestion.extract_zip_file()\n",
    "\n",
    "except Exception as e:\n",
    "    raise e"
   ]
  },
  {
   "cell_type": "code",
   "execution_count": 40,
   "metadata": {},
   "outputs": [
    {
     "data": {
      "text/plain": [
       "'c:\\\\Users\\\\91812\\\\Desktop\\\\DATASCIENCE\\\\End_to_End_Project\\\\Chiken_disease_End_to_End'"
      ]
     },
     "execution_count": 40,
     "metadata": {},
     "output_type": "execute_result"
    }
   ],
   "source": [
    "%pwd"
   ]
  },
  {
   "cell_type": "code",
   "execution_count": 39,
   "metadata": {},
   "outputs": [],
   "source": [
    "os.chdir(\"../\")"
   ]
  },
  {
   "cell_type": "code",
   "execution_count": null,
   "metadata": {},
   "outputs": [],
   "source": []
  }
 ],
 "metadata": {
  "kernelspec": {
   "display_name": "chicken",
   "language": "python",
   "name": "python3"
  },
  "language_info": {
   "codemirror_mode": {
    "name": "ipython",
    "version": 3
   },
   "file_extension": ".py",
   "mimetype": "text/x-python",
   "name": "python",
   "nbconvert_exporter": "python",
   "pygments_lexer": "ipython3",
   "version": "3.8.18"
  }
 },
 "nbformat": 4,
 "nbformat_minor": 2
}
